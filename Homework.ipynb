{
 "cells": [
  {
   "cell_type": "code",
   "execution_count": 3,
   "id": "afca0666",
   "metadata": {},
   "outputs": [
    {
     "name": "stdout",
     "output_type": "stream",
     "text": [
      "Requirement already satisfied: pip in /Library/Frameworks/Python.framework/Versions/3.10/lib/python3.10/site-packages (23.0.1)\r\n"
     ]
    }
   ],
   "source": [
    "!pip3 install --upgrade pip"
   ]
  },
  {
   "cell_type": "code",
   "execution_count": 4,
   "id": "d5dfb118",
   "metadata": {},
   "outputs": [
    {
     "name": "stdout",
     "output_type": "stream",
     "text": [
      "Requirement already satisfied: requests in /Library/Frameworks/Python.framework/Versions/3.10/lib/python3.10/site-packages (2.28.2)\n",
      "Requirement already satisfied: urllib3<1.27,>=1.21.1 in /Library/Frameworks/Python.framework/Versions/3.10/lib/python3.10/site-packages (from requests) (1.26.14)\n",
      "Requirement already satisfied: idna<4,>=2.5 in /Library/Frameworks/Python.framework/Versions/3.10/lib/python3.10/site-packages (from requests) (3.4)\n",
      "Requirement already satisfied: certifi>=2017.4.17 in /Library/Frameworks/Python.framework/Versions/3.10/lib/python3.10/site-packages (from requests) (2022.12.7)\n",
      "Requirement already satisfied: charset-normalizer<4,>=2 in /Library/Frameworks/Python.framework/Versions/3.10/lib/python3.10/site-packages (from requests) (3.0.1)\n"
     ]
    }
   ],
   "source": [
    "!pip install requests"
   ]
  },
  {
   "cell_type": "code",
   "execution_count": 5,
   "id": "77447424",
   "metadata": {},
   "outputs": [
    {
     "name": "stdout",
     "output_type": "stream",
     "text": [
      "<module 'requests' from '/Users/ish/opt/anaconda3/lib/python3.9/site-packages/requests/__init__.py'>\n"
     ]
    }
   ],
   "source": [
    "import requests\n",
    "\n",
    "print(requests)"
   ]
  },
  {
   "cell_type": "code",
   "execution_count": 25,
   "id": "088c474b",
   "metadata": {},
   "outputs": [
    {
     "data": {
      "text/plain": [
       "<Response [200]>"
      ]
     },
     "execution_count": 25,
     "metadata": {},
     "output_type": "execute_result"
    }
   ],
   "source": [
    "# request data from pokeapi \n",
    "#here we are making a get request the url.\n",
    "\n",
    "# poke_res = requests.get('https://pokeapi.co/api/v2/pokemon/magikarp')\n",
    "# poke_res\n",
    "#print(res.content)\n",
    "#print(res.text\n",
    "# poke_data = poke_res.json()\n",
    "# poke_data"
   ]
  },
  {
   "cell_type": "code",
   "execution_count": 36,
   "id": "a7c4d948",
   "metadata": {},
   "outputs": [
    {
     "data": {
      "text/plain": [
       "100"
      ]
     },
     "execution_count": 36,
     "metadata": {},
     "output_type": "execute_result"
    }
   ],
   "source": [
    "poke_data['weight']"
   ]
  },
  {
   "cell_type": "code",
   "execution_count": 39,
   "id": "87571958",
   "metadata": {},
   "outputs": [
    {
     "data": {
      "text/plain": [
       "9"
      ]
     },
     "execution_count": 39,
     "metadata": {},
     "output_type": "execute_result"
    }
   ],
   "source": [
    "poke_data['height']"
   ]
  },
  {
   "cell_type": "code",
   "execution_count": 37,
   "id": "b43b13c4",
   "metadata": {},
   "outputs": [],
   "source": [
    "# Create a python wrapper for the Pokemon API. \n",
    "# It should take in a pokemon name and display the pokemon with its height and weight\n",
    "# https://pokeapi.co/api/v2/pokemon/magikarp'"
   ]
  },
  {
   "cell_type": "code",
   "execution_count": 55,
   "id": "9e4a1c44",
   "metadata": {},
   "outputs": [
    {
     "name": "stdout",
     "output_type": "stream",
     "text": [
      "https://pokeapi.co/api/v2/pokemon/magikarp\n"
     ]
    }
   ],
   "source": [
    "poke_base_url = \"https://pokeapi.co/api/v2/pokemon/\"\n",
    "poke_type = 'magikarp'\n",
    "final_poke_url = f\"{poke_base_url}{poke_type}\"\n",
    "print(final_poke_url)"
   ]
  },
  {
   "cell_type": "code",
   "execution_count": 56,
   "id": "6ba93705",
   "metadata": {},
   "outputs": [
    {
     "data": {
      "text/plain": [
       "<Response [200]>"
      ]
     },
     "execution_count": 56,
     "metadata": {},
     "output_type": "execute_result"
    }
   ],
   "source": [
    "poke_response = requests.get(final_poke_url)\n",
    "poke_response"
   ]
  },
  {
   "cell_type": "code",
   "execution_count": 64,
   "id": "36adfc64",
   "metadata": {},
   "outputs": [
    {
     "name": "stdout",
     "output_type": "stream",
     "text": [
      "Hello, im MAGIKARP and im 9 inches tall.\n",
      "Hello, im MAGIKARP and I weigh 100 pounds.\n"
     ]
    }
   ],
   "source": [
    "poke_data = (poke_response.json())\n",
    "print(f\"Hello, im {poke_type.upper()} and im {str(poke_data['height'])} inches tall.\")\n",
    "print(f\"Hello, im {poke_type.upper()} and I weigh {str(poke_data['weight'])} pounds.\")\n",
    "\n",
    "poke_height = poke_data['height']\n",
    "poke_weight = poke_data['weight']"
   ]
  },
  {
   "cell_type": "code",
   "execution_count": 24,
   "id": "eeadb52f",
   "metadata": {},
   "outputs": [],
   "source": [
    "class PokemonWraper:\n",
    "    poke_base_url = \"https://pokeapi.co/api/v2/pokemon/\"\n",
    "    \n",
    "    def __init__(self, poke_type):\n",
    "        self.poke_type = poke_type\n",
    "        self.poke_height = \"\"\n",
    "        self.poke_weight = \"\"\n",
    "        \n",
    "    def __get(self,):\n",
    "        final_poke_url = f\"{self.poke_base_url}{self.poke_type}\"\n",
    "        poke_response = request.get(final_poke_url)\n",
    "        poke_data = poke_response.json()\n",
    "        self_poke_height = str(poke_data['height'])\n",
    "        self_poke_weight = str(poke_data['weight'])\n",
    "        \n",
    "    def weight_height(self):\n",
    "        return f\"Hello, im {self.poke_type.upper()} and im {self.poke_height} inches tall.\"\n",
    "        return f\"Hello, im {self.poke_type.upper()} and I weigh {self.poke_weight} pounds.\"\n",
    "\n",
    "        "
   ]
  },
  {
   "cell_type": "code",
   "execution_count": 25,
   "id": "09ef89ce",
   "metadata": {},
   "outputs": [
    {
     "name": "stdout",
     "output_type": "stream",
     "text": [
      "Hello, im MAGIKARP and im  inches tall.\n"
     ]
    }
   ],
   "source": [
    "poke1 = PokemonWraper('Magikarp')\n",
    "print(poke1.weight_height())\n"
   ]
  }
 ],
 "metadata": {
  "kernelspec": {
   "display_name": "Python 3 (ipykernel)",
   "language": "python",
   "name": "python3"
  },
  "language_info": {
   "codemirror_mode": {
    "name": "ipython",
    "version": 3
   },
   "file_extension": ".py",
   "mimetype": "text/x-python",
   "name": "python",
   "nbconvert_exporter": "python",
   "pygments_lexer": "ipython3",
   "version": "3.9.13"
  }
 },
 "nbformat": 4,
 "nbformat_minor": 5
}
